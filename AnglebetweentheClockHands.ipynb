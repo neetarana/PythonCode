{
 "cells": [
  {
   "cell_type": "code",
   "execution_count": 10,
   "metadata": {},
   "outputs": [],
   "source": [
    "def anglebetweenclockhands():\n",
    "    inputdatetime = input(\"enter datetime (YYYY-MM-DD HH:MM:SS): \")\n",
    "    inp_date,inp_time = map(str, inputdatetime.split(\" \"))\n",
    "    inp_time_hour, inp_time_minute, inp_time_second = map(int,inp_time.split(\":\")) \n",
    "    if inp_time_hour>=12:\n",
    "        inp_time_hour = inp_time_hour-12\n",
    "    hourhandangle = inp_time_hour*30+inp_time_minute*0.5\n",
    "    #1 hour = 30 degree as 12 hours is 360 degrees\n",
    "    minutehandangle = inp_time_minute*6\n",
    "    #1 min = 6 degress as 60 min is 360 degrees\n",
    "    angle = hourhandangle-minutehandangle\n",
    "    print(angle)"
   ]
  },
  {
   "cell_type": "code",
   "execution_count": 15,
   "metadata": {},
   "outputs": [
    {
     "name": "stdout",
     "output_type": "stream",
     "text": [
      "enter datetime (YYYY-MM-DD HH:MM:SS): 2019-12-02 00:10:00\n",
      "-55.0\n"
     ]
    }
   ],
   "source": [
    "anglebetweenclockhands()"
   ]
  },
  {
   "cell_type": "code",
   "execution_count": null,
   "metadata": {},
   "outputs": [],
   "source": []
  }
 ],
 "metadata": {
  "kernelspec": {
   "display_name": "Python 3",
   "language": "python",
   "name": "python3"
  },
  "language_info": {
   "codemirror_mode": {
    "name": "ipython",
    "version": 3
   },
   "file_extension": ".py",
   "mimetype": "text/x-python",
   "name": "python",
   "nbconvert_exporter": "python",
   "pygments_lexer": "ipython3",
   "version": "3.7.0"
  }
 },
 "nbformat": 4,
 "nbformat_minor": 2
}
